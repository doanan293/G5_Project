{
 "cells": [
  {
   "cell_type": "code",
   "execution_count": 88,
   "id": "initial_id",
   "metadata": {
    "collapsed": true,
    "ExecuteTime": {
     "end_time": "2024-03-12T12:11:53.271161Z",
     "start_time": "2024-03-12T12:11:53.267006Z"
    }
   },
   "outputs": [],
   "source": [
    "from bs4 import BeautifulSoup as soup\n",
    "import requests"
   ]
  },
  {
   "cell_type": "code",
   "outputs": [],
   "source": [
    "url='https://cafef.vn/thi-truong-chung-khoan.chn'"
   ],
   "metadata": {
    "collapsed": false,
    "ExecuteTime": {
     "end_time": "2024-03-12T12:11:53.288333Z",
     "start_time": "2024-03-12T12:11:53.283272Z"
    }
   },
   "id": "8a9ca6eb7eb8491b",
   "execution_count": 89
  },
  {
   "cell_type": "code",
   "outputs": [],
   "source": [
    "r = requests.get(url)"
   ],
   "metadata": {
    "collapsed": false,
    "ExecuteTime": {
     "end_time": "2024-03-12T12:11:54.428531Z",
     "start_time": "2024-03-12T12:11:53.290332Z"
    }
   },
   "id": "c1cf6833c0d1f5ba",
   "execution_count": 90
  },
  {
   "cell_type": "code",
   "outputs": [],
   "source": [
    "b = soup(r.content, 'html.parser')"
   ],
   "metadata": {
    "collapsed": false,
    "ExecuteTime": {
     "end_time": "2024-03-12T12:11:54.474557Z",
     "start_time": "2024-03-12T12:11:54.429532Z"
    }
   },
   "id": "91637f7a4e5fa13",
   "execution_count": 91
  },
  {
   "cell_type": "code",
   "outputs": [
    {
     "data": {
      "text/plain": "['\\nCổ phiếu CTR liên tục phá đỉnh, Chủ tịch Digiworld Đoàn Hồng Việt lãi đậm sau nửa năm làm cổ đông lớn Viettel Construction\\n',\n '\\nTăng 2.650% sau 10 năm, một cổ phiếu vừa chạm ngưỡng 3 chữ số, kinh doanh toàn mặt hàng độc lạ, sắp chia cổ tức “khủng”\\n',\n '\\nGóc nhìn CTCK: Rủi ro giảm điểm vẫn hiện hữu, tránh mua đuổi trong những nhịp hồi\\n',\n '\\nCùng chiều khối ngoại, tự doanh CTCK quay đầu bán ròng trăm tỷ trong phiên 12/3\\n',\n '\\nKhối ngoại bán ròng hơn 200 tỷ đồng trong phiên VN-Index hồi phục, tâm điểm MWG và một cổ phiếu chứng khoán\\n',\n '\\nChứng khoán Vietcap muốn phát hành thêm 281 triệu cổ phiếu trong năm 2024, tăng vốn lên gần 7.200 tỷ đồng\\n',\n '\\nREE dự kiến trả cổ tức năm 2023 với tỷ lệ 25%\\n',\n '\\nLãnh đạo dệt may TNG tiếp tục muốn thoái lượng lớn cổ phiếu TNG\\n',\n '\\nChủ tịch HĐQT Đỗ Quang Vinh lên chiến lược lấy SHS làm lá cờ đầu của Tập đoàn tài chính đầu tư\\n',\n '\\nCEO KAFI: Đa số việc kiếm được tiền từ lướt sóng chứng khoán lần này thì lần sau cũng sẽ trả lại\\n',\n '\\nTiền nhiều để làm gì: Một \"đại gia\" bất động sản KCN đem nghìn tỷ cho loạt CTCK top đầu vay lãi suất rẻ, rót hơn trăm tỷ đầu tư cổ phiếu nhưng vẫn thừa cả đống gửi ngân hàng\\n',\n '\\nPV Power báo doanh thu sụt giảm 1/3 trong tháng 2, chốt xong giá điện cho nhà máy điện Nhơn Trạch 3 và 4\\n',\n '\\nBộ trưởng Bộ Tài chính Hồ Đức Phớc chủ trì Hội nghị Xúc tiến Đầu tư tài chính tại Nhật Bản\\n',\n \"\\nKhi các kênh đầu tư đều 'nóng': Bỏ tiền vào đâu?\\n\",\n '\\nVNDirect: Đã đến lúc nhà đầu tư cần thận trọng khi mua cổ phiếu và dùng margin\\n',\n '\\nLợi nhuận lao dốc mạnh, công ty con của Hóa chất Đức Giang vỡ kế hoạch cổ tức “khủng”\\n',\n '\\nLịch sự kiện và tin vắn chứng khoán ngày 12/3\\n',\n '\\nGiảm sâu 2 phiên liên tiếp, VN-Index bao giờ ngừng \"rơi\"?\\n',\n '\\nGóc nhìn CTCK: Tiếp tục quán tính giảm, VN-Index có thể kiểm định hỗ trợ quanh 1.225 điểm\\n',\n '\\nMột cổ phiếu bất động sản được tự doanh CTCK gom mạnh trong phiên đầu tuần\\n',\n '\\nVinaconex ITC kinh doanh thua lỗ, tổng nợ vay lên tới 1.831,6 tỷ đồng, tiếp tục bị Công ty mẹ rút thêm 2.200 tỷ đồng\\n',\n '\\nChứng khoán tiếp đà giảm mạnh\\n']"
     },
     "execution_count": 92,
     "metadata": {},
     "output_type": "execute_result"
    }
   ],
   "source": [
    "listtitle=[]\n",
    "for news in b.findAll('h3'): \n",
    "    listtitle.append(news.text)\n",
    "listtitle"
   ],
   "metadata": {
    "collapsed": false,
    "ExecuteTime": {
     "end_time": "2024-03-12T12:11:54.490813Z",
     "start_time": "2024-03-12T12:11:54.477555Z"
    }
   },
   "id": "1ce8ba8304a3aef3",
   "execution_count": 92
  },
  {
   "cell_type": "code",
   "outputs": [
    {
     "data": {
      "text/plain": "['Cổ phiếu CTR liên tục phá đỉnh, Chủ tịch Digiworld Đoàn Hồng Việt lãi đậm sau nửa năm làm cổ đông lớn Viettel Construction',\n 'Tăng 2.650% sau 10 năm, một cổ phiếu vừa chạm ngưỡng 3 chữ số, kinh doanh toàn mặt hàng độc lạ, sắp chia cổ tức “khủng”',\n 'Góc nhìn CTCK: Rủi ro giảm điểm vẫn hiện hữu, tránh mua đuổi trong những nhịp hồi',\n 'Cùng chiều khối ngoại, tự doanh CTCK quay đầu bán ròng trăm tỷ trong phiên 12/3',\n 'Khối ngoại bán ròng hơn 200 tỷ đồng trong phiên VN-Index hồi phục, tâm điểm MWG và một cổ phiếu chứng khoán',\n 'Chứng khoán Vietcap muốn phát hành thêm 281 triệu cổ phiếu trong năm 2024, tăng vốn lên gần 7.200 tỷ đồng',\n 'REE dự kiến trả cổ tức năm 2023 với tỷ lệ 25%',\n 'Lãnh đạo dệt may TNG tiếp tục muốn thoái lượng lớn cổ phiếu TNG',\n 'Chủ tịch HĐQT Đỗ Quang Vinh lên chiến lược lấy SHS làm lá cờ đầu của Tập đoàn tài chính đầu tư',\n 'CEO KAFI: Đa số việc kiếm được tiền từ lướt sóng chứng khoán lần này thì lần sau cũng sẽ trả lại',\n 'Tiền nhiều để làm gì: Một \"đại gia\" bất động sản KCN đem nghìn tỷ cho loạt CTCK top đầu vay lãi suất rẻ, rót hơn trăm tỷ đầu tư cổ phiếu nhưng vẫn thừa cả đống gửi ngân hàng',\n 'PV Power báo doanh thu sụt giảm 1/3 trong tháng 2, chốt xong giá điện cho nhà máy điện Nhơn Trạch 3 và 4',\n 'Bộ trưởng Bộ Tài chính Hồ Đức Phớc chủ trì Hội nghị Xúc tiến Đầu tư tài chính tại Nhật Bản',\n \"Khi các kênh đầu tư đều 'nóng': Bỏ tiền vào đâu?\",\n 'VNDirect: Đã đến lúc nhà đầu tư cần thận trọng khi mua cổ phiếu và dùng margin',\n 'Lợi nhuận lao dốc mạnh, công ty con của Hóa chất Đức Giang vỡ kế hoạch cổ tức “khủng”',\n 'Lịch sự kiện và tin vắn chứng khoán ngày 12/3',\n 'Giảm sâu 2 phiên liên tiếp, VN-Index bao giờ ngừng \"rơi\"?',\n 'Góc nhìn CTCK: Tiếp tục quán tính giảm, VN-Index có thể kiểm định hỗ trợ quanh 1.225 điểm',\n 'Một cổ phiếu bất động sản được tự doanh CTCK gom mạnh trong phiên đầu tuần',\n 'Vinaconex ITC kinh doanh thua lỗ, tổng nợ vay lên tới 1.831,6 tỷ đồng, tiếp tục bị Công ty mẹ rút thêm 2.200 tỷ đồng',\n 'Chứng khoán tiếp đà giảm mạnh']"
     },
     "execution_count": 93,
     "metadata": {},
     "output_type": "execute_result"
    }
   ],
   "source": [
    "cleaned_titles = [title.strip() for title in listtitle]\n",
    "cleaned_titles"
   ],
   "metadata": {
    "collapsed": false,
    "ExecuteTime": {
     "end_time": "2024-03-12T12:11:54.503066Z",
     "start_time": "2024-03-12T12:11:54.492810Z"
    }
   },
   "id": "8f0547b87731cebc",
   "execution_count": 93
  },
  {
   "cell_type": "code",
   "outputs": [
    {
     "data": {
      "text/plain": "['https://cafef.vn/goc-nhin-ctck-rui-ro-giam-diem-van-hien-huu-tranh-mua-duoi-trong-nhung-nhip-hoi-188240312184839079.chn',\n 'https://cafef.vn/cung-chieu-khoi-ngoai-tu-doanh-ctck-quay-dau-ban-rong-tram-ty-trong-phien-12-3-18824031218015958.chn',\n 'https://cafef.vn/khoi-ngoai-ban-rong-hon-200-ty-dong-trong-phien-vn-index-hoi-phuc-tam-diem-mwg-va-mot-co-phieu-chung-khoan-188240312151546741.chn',\n 'https://cafef.vn/chung-khoan-vietcap-muon-phat-hanh-them-281-trieu-co-phieu-trong-nam-2024-tang-von-len-gan-7200-ty-dong-188240312145301274.chn',\n 'https://cafef.vn/ree-du-kien-tra-co-tuc-nam-2023-voi-ty-le-25-188240312140723968.chn',\n 'https://cafef.vn/lanh-dao-det-may-tng-tiep-tuc-muon-thoai-luong-lon-co-phieu-tng-188240312140609998.chn',\n 'https://cafef.vn/chu-tich-hdqt-do-quang-vinh-len-chien-luoc-lay-shs-lam-la-co-dau-cua-tap-doan-tai-chinh-dau-tu-18824031212122037.chn',\n 'https://cafef.vn/ceo-kafi-da-so-viec-kiem-duoc-tien-tu-luot-song-chung-khoan-lan-nay-thi-lan-sau-cung-se-tra-lai-188240312113322938.chn',\n 'https://cafef.vn/tien-nhieu-de-lam-gi-mot-dai-gia-bat-dong-san-kcn-dem-nghin-ty-cho-loat-ctck-top-dau-vay-lai-suat-re-rot-hon-tram-ty-dau-tu-co-phieu-nhung-van-thua-ca-dong-gui-ngan-hang-188240312112801543.chn',\n 'https://cafef.vn/pv-power-bao-doanh-thu-sut-giam-1-3-trong-thang-2-chot-xong-gia-dien-cho-nha-may-dien-nhon-trach-3-va-4-188240312103111915.chn',\n 'https://cafef.vn/bo-truong-bo-tai-chinh-ho-duc-phoc-chu-tri-hoi-nghi-xuc-tien-dau-tu-tai-chinh-tai-nhat-ban-188240312100513737.chn',\n 'https://cafef.vn/khi-cac-kenh-dau-tu-deu-nong-bo-tien-vao-dau-188240312093719039.chn',\n 'https://cafef.vn/vndirect-da-den-luc-nha-dau-tu-can-than-trong-khi-mua-co-phieu-va-dung-margin-188240311174110795.chn',\n 'https://cafef.vn/loi-nhuan-lao-doc-manh-cong-ty-con-cua-hoa-chat-duc-giang-vo-ke-hoach-co-tuc-khung-188240311232522064.chn',\n 'https://cafef.vn/lich-su-kien-va-tin-van-chung-khoan-ngay-12-3-188240311214044889.chn',\n 'https://cafef.vn/giam-sau-2-phien-lien-tiep-vn-index-bao-gio-ngung-roi-188240311191556322.chn',\n 'https://cafef.vn/goc-nhin-ctck-tiep-tuc-quan-tinh-giam-vn-index-co-the-kiem-dinh-ho-tro-quanh-1225-diem-188240311185539274.chn',\n 'https://cafef.vn/mot-co-phieu-bat-dong-san-duoc-tu-doanh-ctck-gom-manh-trong-phien-dau-tuan-188240311175522633.chn',\n 'https://cafef.vn/vinaconex-itc-kinh-doanh-thua-lo-tong-no-vay-len-toi-18316-ty-dong-tiep-tuc-bi-cong-ty-me-rut-them-2200-ty-dong-188240311162940567.chn',\n 'https://cafef.vn/chung-khoan-tiep-da-giam-manh-188240311163420972.chn']"
     },
     "execution_count": 94,
     "metadata": {},
     "output_type": "execute_result"
    }
   ],
   "source": [
    "links = []\n",
    "for news in b.findAll('div', {'class': 'tlitem box-category-item'}): \n",
    "    links.append('https://cafef.vn' + news.a['href'])\n",
    "links"
   ],
   "metadata": {
    "collapsed": false,
    "ExecuteTime": {
     "end_time": "2024-03-12T12:11:54.514898Z",
     "start_time": "2024-03-12T12:11:54.505065Z"
    }
   },
   "id": "70af04eebae2742a",
   "execution_count": 94
  },
  {
   "cell_type": "code",
   "outputs": [
    {
     "name": "stdout",
     "output_type": "stream",
     "text": [
      "CSV file 'D:\\Study Program\\Project\\Crawl\\newscff.csv' already exists. No changes made.\n"
     ]
    }
   ],
   "source": [
    "import csv\n",
    "import os\n",
    "\n",
    "# File path\n",
    "file_path = r'D:\\Study Program\\Project\\Crawl\\newscff.csv'\n",
    "\n",
    "# Header\n",
    "header = [\"Title\", \"Date\", \"Content\"]\n",
    "\n",
    "# Check if the file already exists\n",
    "if not os.path.isfile(file_path):\n",
    "    # Writing the header to the CSV file\n",
    "    with open(file_path, mode='w', newline='', encoding='utf-8-sig') as csv_file:\n",
    "        # Create a CSV writer object\n",
    "        csv_writer = csv.writer(csv_file)\n",
    "        \n",
    "        # Write the header\n",
    "        csv_writer.writerow(header)\n",
    "\n",
    "    print(f\"Empty CSV file '{file_path}' with header has been created successfully.\")\n",
    "else:\n",
    "    print(f\"CSV file '{file_path}' already exists. No changes made.\")\n"
   ],
   "metadata": {
    "collapsed": false,
    "ExecuteTime": {
     "end_time": "2024-03-12T12:11:54.526496Z",
     "start_time": "2024-03-12T12:11:54.518910Z"
    }
   },
   "id": "ae58a08201c47124",
   "execution_count": 95
  },
  {
   "cell_type": "code",
   "outputs": [
    {
     "data": {
      "text/plain": "[('REE dự kiến trả cổ tức năm 2023 với tỷ lệ 25%', '12-03-2024 - 14:07 PM'),\n ('Lãnh đạo dệt may TNG tiếp tục muốn thoái lượng lớn cổ phiếu TNG',\n  '12-03-2024 - 14:06 PM'),\n ('CEO KAFI: Đa số việc kiếm được tiền từ lướt sóng chứng khoán lần này thì lần sau cũng sẽ trả lại',\n  '12-03-2024 - 11:33 AM'),\n ('Tiền nhiều để làm gì: Một \"đại gia\" bất động sản KCN đem nghìn tỷ cho loạt CTCK top đầu vay lãi suất rẻ, rót hơn trăm tỷ đầu tư cổ phiếu nhưng vẫn thừa cả đống gửi ngân hàng',\n  '12-03-2024 - 11:28 AM'),\n ('NHNN tiếp tục hút tiền sẽ tác động như thế nào đến thị trường chứng khoán?',\n  '12-03-2024 - 10:20 AM'),\n ('PV Power báo doanh thu sụt giảm 1/3 trong tháng 2, chốt xong giá điện cho nhà máy điện Nhơn Trạch 3 và 4',\n  '12-03-2024 - 10:17 AM'),\n ('Bộ trưởng Bộ Tài chính Hồ Đức Phớc chủ trì Hội nghị Xúc tiến Đầu tư tài chính tại Nhật Bản',\n  '12-03-2024 - 10:01 AM'),\n (\"Khi các kênh đầu tư đều 'nóng': Bỏ tiền vào đâu?\", '12-03-2024 - 09:40 AM'),\n ('VNDirect: Đã đến lúc nhà đầu tư cần thận trọng khi mua cổ phiếu và dùng margin',\n  '12-03-2024 - 07:27 AM'),\n ('Lợi nhuận lao dốc mạnh, công ty con của Hóa chất Đức Giang vỡ kế hoạch cổ tức “khủng”',\n  '12-03-2024 - 06:00 AM'),\n ('Lịch sự kiện và tin vắn chứng khoán ngày 12/3', '12-03-2024 - 05:00 AM'),\n ('Góc nhìn CTCK: Tiếp tục quán tính giảm, VN-Index có thể kiểm định hỗ trợ quanh 1.225 điểm',\n  '11-03-2024 - 18:52 PM'),\n ('Một cổ phiếu bất động sản được tự doanh CTCK gom mạnh trong phiên đầu tuần',\n  '11-03-2024 - 17:51 PM'),\n ('Vinaconex ITC kinh doanh thua lỗ, tổng nợ vay lên tới 1.831,6 tỷ đồng, tiếp tục bị Công ty mẹ rút thêm 2.200 tỷ đồng',\n  '11-03-2024 - 17:00 PM'),\n ('Chứng khoán tiếp đà giảm mạnh', '11-03-2024 - 16:33 PM'),\n (\"'Ông trùm xăng dầu' Petrolimex đón cùng lúc thiên thời lẫn địa lợi, sẽ đại thắng năm 2024?\",\n  '11-03-2024 - 16:27 PM'),\n ('KSB bị phạt 130 triệu đồng do vi phạm công bố thông tin',\n  '11-03-2024 - 16:26 PM'),\n ('Phiên 11/3: Khối ngoại mua ròng gần 250 tỷ đồng trên HOSE, tâm điểm FRT',\n  '11-03-2024 - 15:14 PM'),\n ('\"Ông trùm\" ôm đất KCN lên kế hoạch lãi hơn 4.100 tỷ trong năm 2024, dốc hầu bao 1.200 tỷ trả cổ tức và bán vốn 4 công ty trên sàn chứng khoán',\n  '11-03-2024 - 15:08 PM'),\n ('Giảm sâu 2 phiên liên tiếp, VN-Index bao giờ ngừng \"rơi\"?',\n  '12-03-2024 - 00:04 AM'),\n ('Góc nhìn CTCK: Rủi ro giảm điểm vẫn hiện hữu, tránh mua đuổi trong những nhịp hồi',\n  '12-03-2024 - 18:49 PM'),\n ('Cùng chiều khối ngoại, tự doanh CTCK quay đầu bán ròng trăm tỷ trong phiên 12/3',\n  '12-03-2024 - 17:59 PM'),\n ('Khối ngoại bán ròng hơn 200 tỷ đồng trong phiên VN-Index hồi phục, tâm điểm MWG và một cổ phiếu chứng khoán',\n  '12-03-2024 - 15:16 PM'),\n ('Chứng khoán Vietcap muốn phát hành thêm 281 triệu cổ phiếu trong năm 2024, tăng vốn lên gần 7.200 tỷ đồng',\n  '12-03-2024 - 14:47 PM'),\n ('Chủ tịch HĐQT Đỗ Quang Vinh lên chiến lược lấy SHS làm lá cờ đầu của Tập đoàn tài chính đầu tư',\n  '12-03-2024 - 13:30 PM')]"
     },
     "execution_count": 96,
     "metadata": {},
     "output_type": "execute_result"
    }
   ],
   "source": [
    "existing_data = []\n",
    "try:\n",
    "    with open(file_path, mode='r', newline='', encoding='utf-8-sig') as csv_file:\n",
    "        csv_reader = csv.DictReader(csv_file)\n",
    "        existing_data = [(row[\"Title\"], row[\"Date\"]) for row in csv_reader]\n",
    "except FileNotFoundError:\n",
    "    # File not found, it's the first time, or the file is empty\n",
    "    pass\n",
    "existing_data"
   ],
   "metadata": {
    "collapsed": false,
    "ExecuteTime": {
     "end_time": "2024-03-12T12:11:54.543877Z",
     "start_time": "2024-03-12T12:11:54.528496Z"
    }
   },
   "id": "a7d20468ed13db01",
   "execution_count": 96
  },
  {
   "cell_type": "code",
   "outputs": [
    {
     "data": {
      "text/plain": "[]"
     },
     "execution_count": 97,
     "metadata": {},
     "output_type": "execute_result"
    }
   ],
   "source": [
    "import re\n",
    "new_papers = []\n",
    "for link in links:\n",
    "    page = requests.get(link)\n",
    "    bsobj = soup(page.content, 'html.parser')\n",
    "    \n",
    "    title = bsobj.find('h1', {'class': 'title'})\n",
    "    date = bsobj.find('span', {'class': 'pdate'})\n",
    "    content = bsobj.find('div', {'class': 'detail-content afcbc-body'})\n",
    "    \n",
    "    # Check if all elements are found\n",
    "    if title and date and content:\n",
    "        # Clean content\n",
    "        cleaned_content = re.sub(r'\\s+', ' ', content.text.strip())\n",
    "        \n",
    "        # Check if the data already exists in the CSV file\n",
    "        if not any(existing_row[0] == title.text.strip() and existing_row[1] == date.text.strip() for existing_row in existing_data):\n",
    "            # Append data to the list\n",
    "            new_papers.append({\n",
    "                \"Title\": title.text.strip(),\n",
    "                \"Date\": date.text.strip(),\n",
    "                \"Content\": cleaned_content\n",
    "            })\n",
    "\n",
    "new_papers"
   ],
   "metadata": {
    "collapsed": false,
    "ExecuteTime": {
     "end_time": "2024-03-12T12:12:07.604524Z",
     "start_time": "2024-03-12T12:11:54.546881Z"
    }
   },
   "id": "48eed79d823fd4a0",
   "execution_count": 97
  },
  {
   "cell_type": "code",
   "outputs": [
    {
     "name": "stdout",
     "output_type": "stream",
     "text": [
      "New data has been appended to the CSV file 'D:\\Study Program\\Project\\Crawl\\newscff.csv' successfully.\n"
     ]
    }
   ],
   "source": [
    "# Append new data to the CSV file\n",
    "with open(file_path, mode='a', newline='', encoding='utf-8-sig') as csv_file:\n",
    "    csv_writer = csv.DictWriter(csv_file, fieldnames=header)\n",
    "    \n",
    "    # Write only the new data\n",
    "    csv_writer.writerows(new_papers)\n",
    "\n",
    "print(f\"New data has been appended to the CSV file '{file_path}' successfully.\")"
   ],
   "metadata": {
    "collapsed": false,
    "ExecuteTime": {
     "end_time": "2024-03-12T12:12:07.612720Z",
     "start_time": "2024-03-12T12:12:07.606536Z"
    }
   },
   "id": "5186f5ade25a2b5a",
   "execution_count": 98
  }
 ],
 "metadata": {
  "kernelspec": {
   "display_name": "Python 3",
   "language": "python",
   "name": "python3"
  },
  "language_info": {
   "codemirror_mode": {
    "name": "ipython",
    "version": 2
   },
   "file_extension": ".py",
   "mimetype": "text/x-python",
   "name": "python",
   "nbconvert_exporter": "python",
   "pygments_lexer": "ipython2",
   "version": "2.7.6"
  }
 },
 "nbformat": 4,
 "nbformat_minor": 5
}
